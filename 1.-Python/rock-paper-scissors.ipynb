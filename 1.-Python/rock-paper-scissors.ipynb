{
 "cells": [
  {
   "cell_type": "markdown",
   "metadata": {},
   "source": [
    "<img src=\"https://bit.ly/2VnXWr2\" width=\"100\" align=\"left\">"
   ]
  },
  {
   "cell_type": "markdown",
   "metadata": {},
   "source": [
    "# Rock, Paper & Scissors\n",
    "\n",
    "Let's play the famous game against our computer. You can check the rules [here](https://en.wikipedia.org/wiki/Rock%E2%80%93paper%E2%80%93scissors). \n",
    "\n",
    "## Task\n",
    "Create a program that imitates the playability of the well known game of rock, paper, scissors. Follow the guidelines provided.\n",
    "\n",
    "## Tools\n",
    "1. Loop: **for/while**\n",
    "2. Functions: **input(), print()...**\n",
    "3. Conditional statements: **if, elif, else**\n",
    "4. Definition of functions. Modular programming\n",
    "5. Import modules\n",
    "\n",
    "**To solve this challenge, the use of functions is recommended.**\n",
    "\n",
    "#### 1. Import the choice function of the random module."
   ]
  },
  {
   "cell_type": "code",
   "execution_count": 8,
   "metadata": {},
   "outputs": [],
   "source": [
    "import random"
   ]
  },
  {
   "cell_type": "markdown",
   "metadata": {},
   "source": [
    "#### 2. Create a list that includes the 3 possible gesture options of the game: 'rock', 'paper' or 'scissors'. Store the list in a variable called `gestures`."
   ]
  },
  {
   "cell_type": "code",
   "execution_count": 9,
   "metadata": {},
   "outputs": [],
   "source": [
    "gestures = ['rock', 'paper', 'scissors']"
   ]
  },
  {
   "cell_type": "markdown",
   "metadata": {},
   "source": [
    "#### 3. Create a variable called `n_rounds` to store the maximum number of rounds to play in a game. \n",
    "Remember that the number of rounds must be odd: 1, 3, 5, ..."
   ]
  },
  {
   "cell_type": "code",
   "execution_count": 120,
   "metadata": {},
   "outputs": [
    {
     "name": "stdout",
     "output_type": "stream",
     "text": [
      "How many rounds? (Must be an odd number) 3\n"
     ]
    }
   ],
   "source": [
    "n_rounds = int(input(\"How many rounds? (Must be an odd number) \"))\n",
    "if n_rounds%2 == 0:\n",
    "    n_rounds += 1\n",
    "    print(\"Number of rounds must be odd, so we will round up to\", n_rounds, \"rounds.\")"
   ]
  },
  {
   "cell_type": "markdown",
   "metadata": {},
   "source": [
    "#### 4. Create a variable called `rounds_to_win` to store the number of rounds that a player must win to win the game.\n",
    "**Hint**: the value stored in `rounds_to_win` depends on the value of `n_rounds`. "
   ]
  },
  {
   "cell_type": "code",
   "execution_count": 117,
   "metadata": {},
   "outputs": [
    {
     "name": "stdout",
     "output_type": "stream",
     "text": [
      "2\n"
     ]
    }
   ],
   "source": [
    "rounds_to_win = int(n_rounds/2) + 1\n",
    "print(rounds_to_win)"
   ]
  },
  {
   "cell_type": "markdown",
   "metadata": {},
   "source": [
    "#### 5. Create two variables to store the number of rounds that the computer and the player have won. Call these variables `cpu_score` and `player_score`."
   ]
  },
  {
   "cell_type": "code",
   "execution_count": 121,
   "metadata": {},
   "outputs": [],
   "source": [
    "cpu_score = 0\n",
    "player_score = 0"
   ]
  },
  {
   "cell_type": "markdown",
   "metadata": {},
   "source": [
    "#### 6. Define a function that randomly returns one of the 3 gesture options.\n",
    "You will use this function to simulate the gesture choice of the computer. "
   ]
  },
  {
   "cell_type": "code",
   "execution_count": 134,
   "metadata": {},
   "outputs": [],
   "source": [
    "def cpu_choice(x):\n",
    "    choice = random.choice(x)\n",
    "    return choice"
   ]
  },
  {
   "cell_type": "markdown",
   "metadata": {},
   "source": [
    "#### 7. Define a function that asks the player which is the gesture he or she wants to show: 'rock', 'paper' or 'scissors'.\n",
    "The player should only be allowed to choose one of the 3 gesture options. If the player's choice is not rock, paper or scissors, keep asking until it is."
   ]
  },
  {
   "cell_type": "code",
   "execution_count": 170,
   "metadata": {},
   "outputs": [
    {
     "name": "stdout",
     "output_type": "stream",
     "text": [
      "Choose one: rock, paper, scissors,rock\n"
     ]
    },
    {
     "data": {
      "text/plain": [
       "'rock'"
      ]
     },
     "execution_count": 170,
     "metadata": {},
     "output_type": "execute_result"
    }
   ],
   "source": [
    "def player_choice(x):\n",
    "    choice = 'none'\n",
    "    question = \"Choose one:\"\n",
    "    for i in x:\n",
    "            question = question + \" \" + i + \",\"\n",
    "    while choice not in x:\n",
    "        choice = input(question)\n",
    "        choice = choice.lower()\n",
    "    return choice\n",
    "player_choice(gestures)"
   ]
  },
  {
   "cell_type": "markdown",
   "metadata": {},
   "source": [
    "#### 8. Define a function that checks who won a round. \n",
    "The function should return 0 if there is a tie, 1 if the computer wins and 2 if the player wins."
   ]
  },
  {
   "cell_type": "code",
   "execution_count": 142,
   "metadata": {},
   "outputs": [
    {
     "name": "stdout",
     "output_type": "stream",
     "text": [
      "rock, paper, or scissors? rock\n"
     ]
    }
   ],
   "source": [
    "p_choice = player_choice(gestures)\n",
    "c_choice = cpu_choice(gestures)\n",
    "def win_round():\n",
    "    #print(p_choice, c_choice)\n",
    "    if p_choice == c_choice:\n",
    "        return 0\n",
    "    elif p_choice == 'rock':\n",
    "        if c_choice == 'scissors':\n",
    "            return 2\n",
    "        elif c_choice == 'paper':\n",
    "            return 1\n",
    "    elif p_choice == 'scissors':\n",
    "        if c_choice == 'rock':\n",
    "            return 1\n",
    "        elif c_choice == 'paper':\n",
    "            return 2\n",
    "    elif p_choice == 'paper':\n",
    "        if c_choice == 'rock':\n",
    "            return 2\n",
    "        elif c_choice == 'scissors':\n",
    "            return 1"
   ]
  },
  {
   "cell_type": "markdown",
   "metadata": {},
   "source": [
    "#### 9. Define a function that prints the choice of the computer, the choice of the player and a message that announces who won the current round. \n",
    "You should also use this function to update the variables that count the number of rounds that the computer and the player have won. The score of the winner increases by one point. If there is a tie, the score does not increase."
   ]
  },
  {
   "cell_type": "code",
   "execution_count": 136,
   "metadata": {},
   "outputs": [],
   "source": [
    "rounds = 0\n",
    "def round_message():\n",
    "    global rounds\n",
    "    global player_score\n",
    "    global cpu_score\n",
    "    print(\"The computer chooses\", c_choice)\n",
    "    print(\"The player chooses\", p_choice)\n",
    "    if win_round() == 0:\n",
    "        print(\"It's a tie!\")\n",
    "        rounds += 1\n",
    "    elif win_round() == 1:\n",
    "        print(\"Computer wins this round!\")\n",
    "        rounds += 1\n",
    "        cpu_score += 1\n",
    "    elif win_round() == 2:\n",
    "        print(\"Player wins this round!\")\n",
    "        rounds += 1\n",
    "        player_score += 1\n",
    "    return"
   ]
  },
  {
   "cell_type": "markdown",
   "metadata": {},
   "source": [
    "#### 10. Now it's time to code the execution of the game using the functions and variables you defined above. \n",
    "\n",
    "First, create a loop structure that repeats while no player reaches the minimum score necessary to win and the number of rounds is less than the maximum number of rounds to play in a game.  \n",
    "\n",
    "Inside the loop, use the functions and variables above to create the execution of a round: ask for the player's choice, generate the random choice of the computer, show the round results, update the scores, etc. "
   ]
  },
  {
   "cell_type": "code",
   "execution_count": 143,
   "metadata": {},
   "outputs": [
    {
     "name": "stdout",
     "output_type": "stream",
     "text": [
      "How many rounds? (Must be an odd number) 3\n",
      "rock, paper, or scissors? rock\n",
      "The computer chooses scissors\n",
      "The player chooses rock\n",
      "Player wins this round!\n",
      "current score:\n",
      " player 1 , 1  rounds to win\n",
      " computer 0 , 2  rounds to win\n",
      "\n",
      "rock, paper, or scissors? paper\n",
      "The computer chooses rock\n",
      "The player chooses paper\n",
      "Player wins this round!\n",
      "current score:\n",
      " player 2 , 0  rounds to win\n",
      " computer 0 , 2  rounds to win\n",
      "\n"
     ]
    }
   ],
   "source": [
    "n_rounds = int(input(\"How many rounds? (Must be an odd number) \"))\n",
    "if n_rounds%2 == 0:\n",
    "    n_rounds += 1\n",
    "    print(\"Number of rounds must be odd, so we will round up to\", n_rounds, \"rounds.\")\n",
    "rounds_to_win = int(n_rounds/2) + 1\n",
    "rounds = 0\n",
    "cpu_score = 0\n",
    "player_score = 0\n",
    "while cpu_score < rounds_to_win and player_score < rounds_to_win and rounds < n_rounds:\n",
    "    p_choice = player_choice(gestures)\n",
    "    c_choice = cpu_choice(gestures)\n",
    "    win_round()\n",
    "    round_message()\n",
    "    print(\"current score:\\n player\", \n",
    "          player_score,\",\",rounds_to_win-player_score, \" rounds to win\\n\",\n",
    "          \"computer\", cpu_score,\",\",rounds_to_win-cpu_score, \" rounds to win\\n\")"
   ]
  },
  {
   "cell_type": "markdown",
   "metadata": {},
   "source": [
    "#### 11. Print the winner of the game based on who won more rounds.\n",
    "Remember that the game might be tied. "
   ]
  },
  {
   "cell_type": "code",
   "execution_count": 148,
   "metadata": {},
   "outputs": [
    {
     "name": "stdout",
     "output_type": "stream",
     "text": [
      "Player wins the game!\n"
     ]
    }
   ],
   "source": [
    "if player_score > cpu_score :\n",
    "    print(\"Player wins the game!\")\n",
    "elif cpu_score > player_score:\n",
    "    print(\"Computer wins the game!\")\n",
    "elif cpu_score == player_score:\n",
    "    print(\"Game is tied!\")\n"
   ]
  },
  {
   "cell_type": "markdown",
   "metadata": {},
   "source": [
    "# Bonus: Rock, Paper, Scissors, Lizard & Spock\n",
    "![](images/rpsls.jpg)\n",
    "\n",
    "In this challenge, you need to improve the previous game by adding two new options. To know more about the rules of the improved version of rock, paper, scissors, check this [link](http://www.samkass.com/theories/RPSSL.html). \n",
    "\n",
    "In addition, you will also need to improve how the game interacts with the player: the number of rounds to play, which must be an odd number, will be requested to the user until a valid number is entered. Define a new function to make that request.\n",
    "\n",
    "**Hint**: Try to reuse the code that you already coded in the previous challenge. If your code is efficient, this bonus will only consist of simple modifications to the original game."
   ]
  },
  {
   "cell_type": "code",
   "execution_count": 182,
   "metadata": {},
   "outputs": [
    {
     "name": "stdout",
     "output_type": "stream",
     "text": [
      "How many rounds? (Must be an odd number) 3\n",
      "rock, paper, scissors, spock, or lizard? spock\n",
      "The computer chooses paper\n",
      "The player chooses spock\n",
      "Computer wins this round!\n",
      "current score:\n",
      " player 0 , 2  rounds to win\n",
      " computer 1 , 1  rounds to win\n",
      "\n",
      "rock, paper, scissors, spock, or lizard? scissors\n",
      "The computer chooses scissors\n",
      "The player chooses scissors\n",
      "It's a tie!\n",
      "current score:\n",
      " player 0 , 2  rounds to win\n",
      " computer 1 , 1  rounds to win\n",
      "\n",
      "rock, paper, scissors, spock, or lizard? paper\n",
      "The computer chooses rock\n",
      "The player chooses paper\n",
      "Player wins this round!\n",
      "current score:\n",
      " player 1 , 1  rounds to win\n",
      " computer 1 , 1  rounds to win\n",
      "\n",
      "Game is tied!\n"
     ]
    }
   ],
   "source": [
    "gestures_bonus = ['rock', 'paper', 'scissors', 'lizard', 'spock']\n",
    "\n",
    "n_rounds = int(input(\"How many rounds? (Must be an odd number) \"))\n",
    "if n_rounds%2 == 0:\n",
    "    n_rounds += 1\n",
    "    print(\"Number of rounds must be odd, so we will round up to\", n_rounds, \"rounds.\")\n",
    "    \n",
    "#print(n_rounds)\n",
    "rounds_to_win = int(n_rounds/2) + 1\n",
    "#print(rounds_to_win)\n",
    "\n",
    "rounds = 0\n",
    "cpu_score = 0\n",
    "player_score = 0\n",
    "\n",
    "def win_roundb():\n",
    "    if p_choice == c_choice:\n",
    "        return 0\n",
    "    elif p_choice == 'rock':\n",
    "        if c_choice == 'scissors' or c_choice == 'lizard':\n",
    "            return 2\n",
    "        elif c_choice == 'paper' or c_choice == 'spock':\n",
    "            return 1\n",
    "    elif p_choice == 'scissors':\n",
    "        if c_choice == 'rock'or c_choice == 'spock':\n",
    "            return 1\n",
    "        elif c_choice == 'paper' or c_choice == 'lizard':\n",
    "            return 2\n",
    "    elif p_choice == 'paper':\n",
    "        if c_choice == 'rock'or c_choice == 'spock':\n",
    "            return 2\n",
    "        elif c_choice == 'scissors'or c_choice == 'lizard':\n",
    "            return 1\n",
    "    elif p_choice == 'lizard':\n",
    "        if c_choice == 'spock'or c_choice == 'paper':\n",
    "            return 2\n",
    "        elif c_choice == 'scissors'or c_choice == 'rock':\n",
    "            return 1\n",
    "    elif p_choice == 'spock':\n",
    "        if c_choice == 'rock'or c_choice == 'scissors':\n",
    "            return 2\n",
    "        elif c_choice == 'paper'or c_choice == 'lizard':\n",
    "            return 1\n",
    "        \n",
    "def round_message():\n",
    "    global rounds\n",
    "    global player_score\n",
    "    global cpu_score\n",
    "    print(\"The computer chooses\", c_choice)\n",
    "    print(\"The player chooses\", p_choice)\n",
    "    if win_roundb() == 0:\n",
    "        print(\"It's a tie!\")\n",
    "        rounds += 1\n",
    "    elif win_roundb() == 1:\n",
    "        print(\"Computer wins this round!\")\n",
    "        rounds += 1\n",
    "        cpu_score += 1\n",
    "    elif win_roundb() == 2:\n",
    "        print(\"Player wins this round!\")\n",
    "        rounds += 1\n",
    "        player_score += 1\n",
    "    return\n",
    "        \n",
    "while cpu_score < rounds_to_win and player_score < rounds_to_win and rounds < n_rounds:\n",
    "    p_choice = player_choiceb(gestures_bonus)\n",
    "    c_choice = cpu_choice(gestures_bonus)\n",
    "    win_roundb()\n",
    "    round_message()\n",
    "    print(\"current score:\\n player\", \n",
    "          player_score,\",\",rounds_to_win-player_score, \" rounds to win\\n\",\n",
    "          \"computer\", cpu_score,\",\",rounds_to_win-cpu_score, \" rounds to win\\n\")\n",
    "    \n",
    "if player_score > cpu_score :\n",
    "    print(\"Player wins the game!\")\n",
    "elif cpu_score > player_score:\n",
    "    print(\"Computer wins the game!\")\n",
    "elif cpu_score == player_score:\n",
    "    print(\"Game is tied!\")"
   ]
  }
 ],
 "metadata": {
  "kernelspec": {
   "display_name": "Python 3 (ipykernel)",
   "language": "python",
   "name": "python3"
  },
  "language_info": {
   "codemirror_mode": {
    "name": "ipython",
    "version": 3
   },
   "file_extension": ".py",
   "mimetype": "text/x-python",
   "name": "python",
   "nbconvert_exporter": "python",
   "pygments_lexer": "ipython3",
   "version": "3.9.6"
  }
 },
 "nbformat": 4,
 "nbformat_minor": 2
}
